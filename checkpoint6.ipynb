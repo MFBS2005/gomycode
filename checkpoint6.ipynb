{
  "nbformat": 4,
  "nbformat_minor": 0,
  "metadata": {
    "colab": {
      "name": "checkpoint6",
      "provenance": [],
      "authorship_tag": "ABX9TyPKI8y+tH83E91W+Jt1KX+5",
      "include_colab_link": true
    },
    "kernelspec": {
      "name": "python3",
      "display_name": "Python 3"
    }
  },
  "cells": [
    {
      "cell_type": "markdown",
      "metadata": {
        "id": "view-in-github",
        "colab_type": "text"
      },
      "source": [
        "<a href=\"https://colab.research.google.com/github/MFBS2005/gomycode/blob/main/checkpoint6.ipynb\" target=\"_parent\"><img src=\"https://colab.research.google.com/assets/colab-badge.svg\" alt=\"Open In Colab\"/></a>"
      ]
    },
    {
      "cell_type": "code",
      "metadata": {
        "id": "sHzlVviLVK_N"
      },
      "source": [
        "from google.colab import drive\r\n",
        "drive.mount('/content/drive')\r\n",
        "import pandas as pd\r\n",
        "import numpy as np\r\n",
        "x=pd.read_csv(\"/content/drive/My Drive/iris.data.txt\",sep=\";\")\r\n",
        "x.head()\r\n",
        "import csv\r\n",
        "with open(\"/content/drive/My Drive/iris.data.txt\", 'r') as csvfile:\r\n",
        "  lines = csv.reader(csvfile)\r\n",
        "  for row in lines :\r\n",
        "    print (', '.join(row))"
      ],
      "execution_count": null,
      "outputs": []
    },
    {
      "cell_type": "code",
      "metadata": {
        "colab": {
          "base_uri": "https://localhost:8080/"
        },
        "id": "Bb4uDk63YnwO",
        "outputId": "52474d85-9502-4db1-d9f8-1e450b853e9d"
      },
      "source": [
        "import csv\r\n",
        "import random\r\n",
        "def loadDataset(filename, split, trainingSet=[] , testSet=[]):\r\n",
        "  with open(filename, 'r') as csvfile:\r\n",
        "      lines = csv.reader(csvfile)\r\n",
        "      dataset = list(lines)\r\n",
        "      for x in range(len(dataset)-1):\r\n",
        "          for y in range(4):\r\n",
        "              dataset[x][y]= float(dataset[x][y])\r\n",
        "          if random.random() < split:\r\n",
        "            trainingSet.append(dataset[x])\r\n",
        "          else:\r\n",
        "            testSet.append(dataset[x])\r\n",
        "trainingSet=[]\r\n",
        "testSet=[]\r\n",
        "loadDataset('/content/drive/My Drive/iris.data.txt', 0.66, trainingSet, testSet)\r\n",
        "print ('Train: ' + repr(len(trainingSet)))\r\n",
        "print ('Test: ' + repr(len(testSet)) )"
      ],
      "execution_count": 95,
      "outputs": [
        {
          "output_type": "stream",
          "text": [
            "Train: 103\n",
            "Test: 46\n"
          ],
          "name": "stdout"
        }
      ]
    },
    {
      "cell_type": "code",
      "metadata": {
        "colab": {
          "base_uri": "https://localhost:8080/"
        },
        "id": "i1iOsKedckn6",
        "outputId": "60541b33-23be-4017-b977-3e6ab370f44d"
      },
      "source": [
        "import math\r\n",
        "def euclideanDistance(instance1, instance2, length):\r\n",
        "  s=0\r\n",
        "  for i in range(length):\r\n",
        "    s=s+((instance1[i]-instance2[i])**2)\r\n",
        "  result=math.sqrt(s)\r\n",
        "  return(result)\r\n",
        "data1 = [2, 2, 2, 'a']\r\n",
        "data2 = [4, 4, 4, 'b']\r\n",
        "distance = euclideanDistance(data1,data2,3)\r\n",
        "print('Distance:'+ repr(distance))"
      ],
      "execution_count": 96,
      "outputs": [
        {
          "output_type": "stream",
          "text": [
            "Distance:3.4641016151377544\n"
          ],
          "name": "stdout"
        }
      ]
    },
    {
      "cell_type": "code",
      "metadata": {
        "colab": {
          "base_uri": "https://localhost:8080/"
        },
        "id": "TRsTDjERo9nd",
        "outputId": "501bfcd9-0ba9-4eaa-c890-c59f0a15e1f0"
      },
      "source": [
        "import operator\r\n",
        "def getNeighbors(trainingSet, testInstance, k):\r\n",
        "  distances = []\r\n",
        "  length = len(testInstance)-1\r\n",
        "  for x in range(len(trainingSet)):\r\n",
        "    dist = euclideanDistance(testInstance, trainingSet[x], length)\r\n",
        "    distances.append((trainingSet[x], dist))\r\n",
        "    distances.sort(key=operator.itemgetter(1))\r\n",
        "    neighbors = []\r\n",
        "  for x in range(k):\r\n",
        "    neighbors.append(distances[x][0])\r\n",
        "  return neighbors\r\n",
        "trainSet = [[2, 2, 2, 'a'], [4, 4, 4, 'b']]\r\n",
        "testInstance = [5, 5, 5]\r\n",
        "k = 1\r\n",
        "neighbors = getNeighbors(trainSet, testInstance, 1)\r\n",
        "print(neighbors)"
      ],
      "execution_count": 103,
      "outputs": [
        {
          "output_type": "stream",
          "text": [
            "[[4, 4, 4, 'b']]\n"
          ],
          "name": "stdout"
        }
      ]
    },
    {
      "cell_type": "code",
      "metadata": {
        "colab": {
          "base_uri": "https://localhost:8080/"
        },
        "id": "vv5sCcGBqOP0",
        "outputId": "8c9ea416-c97a-4978-8bcf-4e41db9fafd2"
      },
      "source": [
        "def getResponse(neighbors):\r\n",
        "  classVotes={}\r\n",
        "  for x in range(len(neighbors)):\r\n",
        "    response=neighbors[x][-1]\r\n",
        "    if response in classVotes:\r\n",
        "      classVotes[response]=int(classVotes[response])+1\r\n",
        "    else:\r\n",
        "      classVotes[response]=1\r\n",
        "  sortedVotes = sorted(classVotes.items(), key=operator.itemgetter(1), reverse=True)\r\n",
        "  return(sortedVotes[0][0])\r\n",
        "neighbors = [[1,1,1,'a'], [2,2,2,'a'], [3,3,3,'b']]\r\n",
        "response = getResponse(neighbors)\r\n",
        "print(response)"
      ],
      "execution_count": 98,
      "outputs": [
        {
          "output_type": "stream",
          "text": [
            "a\n"
          ],
          "name": "stdout"
        }
      ]
    },
    {
      "cell_type": "code",
      "metadata": {
        "colab": {
          "base_uri": "https://localhost:8080/"
        },
        "id": "AsGowAcG1Jur",
        "outputId": "7a4376cb-eeb9-4fd4-d4c3-b2146f6bd50c"
      },
      "source": [
        "def getAccuracy(testSet, predictions):\r\n",
        "  correct=0\r\n",
        "  for i in range(len(predictions)):\r\n",
        "     if predictions[i]==testSet[i][-1]:\r\n",
        "       correct=correct+1\r\n",
        "  return (correct/float(len(testSet))) * 100.0\r\n",
        "testSet = [[1,1,1,'a'], [2,2,2,'a'], [3,3,3,'b']]\r\n",
        "predictions = ['a', 'a', 'a']\r\n",
        "accuracy = getAccuracy(testSet, predictions)\r\n",
        "print(accuracy)"
      ],
      "execution_count": 99,
      "outputs": [
        {
          "output_type": "stream",
          "text": [
            "66.66666666666666\n"
          ],
          "name": "stdout"
        }
      ]
    },
    {
      "cell_type": "code",
      "metadata": {
        "colab": {
          "base_uri": "https://localhost:8080/"
        },
        "id": "BT2Kx8K-7bEj",
        "outputId": "56d5cc2a-5b03-4d28-b1cb-0144fc7dfcf1"
      },
      "source": [
        "def main(k=3):\r\n",
        "  trainingSet=[]\r\n",
        "  testSet=[]\r\n",
        "  l1=[]\r\n",
        "  loadDataset(\"/content/drive/My Drive/iris.data.txt\",0.66,trainingSet,testSet)\r\n",
        "  for i in range(len(testSet)):\r\n",
        "    N=getNeighbors(trainingSet,testSet[i],k)\r\n",
        "    pred=getResponse(N)\r\n",
        "    l1.append(pred)\r\n",
        "  acc=getAccuracy(testSet,l1)\r\n",
        "  return(acc)\r\n",
        "print(main())"
      ],
      "execution_count": 105,
      "outputs": [
        {
          "output_type": "stream",
          "text": [
            "91.66666666666666\n"
          ],
          "name": "stdout"
        }
      ]
    },
    {
      "cell_type": "code",
      "metadata": {
        "colab": {
          "base_uri": "https://localhost:8080/"
        },
        "id": "wNXvxDNRE6Wn",
        "outputId": "8923e4b6-e2d4-469c-e0d4-057578160c53"
      },
      "source": [
        "def ManhatanDistance(instance1, instance2, length):\r\n",
        "  s=0\r\n",
        "  for i in range(length):\r\n",
        "    s=s+abs((instance1[i]-instance2[i]))\r\n",
        "def getNeighborsManhatan(trainingSet, testInstance, k):\r\n",
        "  distances = []\r\n",
        "  length = len(testInstance)-1\r\n",
        "  for x in range(len(trainingSet)):\r\n",
        "    dist=ManhatanDistance(testInstance, trainingSet[x], length)\r\n",
        "    distances.append((trainingSet[x], dist))\r\n",
        "    distances.sort(key=operator.itemgetter(1))\r\n",
        "    neighbors = []\r\n",
        "  for x in range(k):\r\n",
        "    neighbors.append(distances[x][0])\r\n",
        "  return neighbors"
      ],
      "execution_count": 108,
      "outputs": [
        {
          "output_type": "stream",
          "text": [
            "[[4, 4, 4, 'b']]\n"
          ],
          "name": "stdout"
        }
      ]
    },
    {
      "cell_type": "code",
      "metadata": {
        "colab": {
          "base_uri": "https://localhost:8080/"
        },
        "id": "Symg3VeFF5rz",
        "outputId": "c804484b-5e73-423f-f808-7439621063f6"
      },
      "source": [
        "def main2(k=3):\r\n",
        "  trainingSet=[]\r\n",
        "  testSet=[]\r\n",
        "  l1=[]\r\n",
        "  loadDataset(\"/content/drive/My Drive/iris.data.txt\",0.66,trainingSet,testSet)\r\n",
        "  for i in range(len(testSet)):\r\n",
        "    N=getNeighborsManhatan(trainingSet,testSet[i],k)\r\n",
        "    pred=getResponse(N)\r\n",
        "    l1.append(pred)\r\n",
        "  acc=getAccuracy(testSet,l1)\r\n",
        "  return(acc)\r\n",
        "print(main())\r\n"
      ],
      "execution_count": 110,
      "outputs": [
        {
          "output_type": "stream",
          "text": [
            "98.18181818181819\n"
          ],
          "name": "stdout"
        }
      ]
    }
  ]
}